{
 "cells": [
  {
   "cell_type": "markdown",
   "id": "4730fdc7",
   "metadata": {},
   "source": [
    "# Comparing an AI algorithm to a group of human readers"
   ]
  },
  {
   "cell_type": "markdown",
   "id": "78bceb49",
   "metadata": {},
   "source": [
    "* The following URL provides background material to this demo: \n",
    "  * [AI evaluation chapter](https://dpc10ster.github.io/RJafrocFrocBook/standalone-cad-radiologists.html)"
   ]
  },
  {
   "cell_type": "markdown",
   "id": "28ff8cec",
   "metadata": {},
   "source": [
    "# Glossary of terms"
   ]
  },
  {
   "cell_type": "markdown",
   "id": "d7d98b40",
   "metadata": {},
   "source": [
    "* AI artifical intelligence algorithm that analyzes images to identify targets of interest\n",
    "* Treatment and modality are used interchangeably.\n",
    "* Reader, radiologist or algorithmic observer are also used interchangeably.\n",
    "* Rating: level of suspicion, recorded on an ordinal scale, with higher values associated with increasing confidence in presence of disease. \n",
    "* In the ROC paradigm each case interpretation results in **one** rating.\n",
    "* In the FROC paradigm each case interpretation results in **zero or more** marked suspicious regions, each of which yields a rating reflecting confidence in presence of disease at each marked region. \n",
    "* FROC data consists of mark-rating pairs, where the number of mark-rating pairs on each case is a-priori unpredictable.\n",
    "* K1 = number of non-diseased cases\n",
    "* K2 = number of diseased cases\n",
    "* K = K1 + K2 = total number of cases\n",
    "* I = number of modalities\n",
    "* J = number of readers\n",
    "* FOM, the figure of merit, in my opinion the most important concept in the analysis; for a given treatment and modality it is a **scalar** measure of performance, usually in the range 0 to 1, with higher values corresponding to better performance.\n",
    "* Significance testing: the analytic procedure used to determine if differences in FOM are statistically significant\n",
    "* RRRC, random-reader random-case, i.e., the analysis allows for random variability associated with readers and random variability associated with cases; some readers are better than others, some are worse; some cases are more difficult to interpret than others, etc."
   ]
  },
  {
   "cell_type": "code",
   "execution_count": 1,
   "id": "5f0227aa",
   "metadata": {},
   "outputs": [],
   "source": [
    "import numpy as np\n",
    "from StSignificanceTesting import StSignificanceTestingCadVsRad\n",
    "from DfReadDataFile import DfReadDataFile"
   ]
  },
  {
   "cell_type": "markdown",
   "id": "9b8f4e23",
   "metadata": {},
   "source": [
    "## Read the Excel file"
   ]
  },
  {
   "cell_type": "code",
   "execution_count": 2,
   "id": "9a26a927",
   "metadata": {},
   "outputs": [],
   "source": [
    "ds = DfReadDataFile(\"extdata/NicoRadRoc.xlsx\")\n",
    "stats = StSignificanceTestingCadVsRad(ds, FOM = \"Wilcoxon\")"
   ]
  },
  {
   "cell_type": "code",
   "execution_count": 3,
   "id": "c4bf7899",
   "metadata": {},
   "outputs": [
    {
     "data": {
      "text/html": [
       "<div>\n",
       "<style scoped>\n",
       "    .dataframe tbody tr th:only-of-type {\n",
       "        vertical-align: middle;\n",
       "    }\n",
       "\n",
       "    .dataframe tbody tr th {\n",
       "        vertical-align: top;\n",
       "    }\n",
       "\n",
       "    .dataframe thead th {\n",
       "        text-align: right;\n",
       "    }\n",
       "</style>\n",
       "<table border=\"1\" class=\"dataframe\">\n",
       "  <thead>\n",
       "    <tr style=\"text-align: right;\">\n",
       "      <th></th>\n",
       "      <th>Rad</th>\n",
       "      <th>CAD</th>\n",
       "      <th>Rad-CAD</th>\n",
       "      <th>VarRad</th>\n",
       "      <th>VarError</th>\n",
       "      <th>Cov2</th>\n",
       "      <th>MSden1T</th>\n",
       "      <th>stdErr1T</th>\n",
       "      <th>ddf1T</th>\n",
       "      <th>Tstat</th>\n",
       "      <th>p val</th>\n",
       "      <th>CI_lo</th>\n",
       "      <th>CI_hi</th>\n",
       "    </tr>\n",
       "  </thead>\n",
       "  <tbody>\n",
       "    <tr>\n",
       "      <th>0</th>\n",
       "      <td>0.848663</td>\n",
       "      <td>0.816927</td>\n",
       "      <td>0.031736</td>\n",
       "      <td>0.000878</td>\n",
       "      <td>0.0014</td>\n",
       "      <td>0.000924</td>\n",
       "      <td>0.009195</td>\n",
       "      <td>0.031964</td>\n",
       "      <td>877.886378</td>\n",
       "      <td>0.992869</td>\n",
       "      <td>0.321047</td>\n",
       "      <td>-0.030999</td>\n",
       "      <td>0.094471</td>\n",
       "    </tr>\n",
       "  </tbody>\n",
       "</table>\n",
       "</div>"
      ],
      "text/plain": [
       "        Rad       CAD   Rad-CAD    VarRad  VarError      Cov2   MSden1T  \\\n",
       "0  0.848663  0.816927  0.031736  0.000878    0.0014  0.000924  0.009195   \n",
       "\n",
       "   stdErr1T       ddf1T     Tstat     p val     CI_lo     CI_hi  \n",
       "0  0.031964  877.886378  0.992869  0.321047 -0.030999  0.094471  "
      ]
     },
     "execution_count": 3,
     "metadata": {},
     "output_type": "execute_result"
    }
   ],
   "source": [
    "stats"
   ]
  },
  {
   "cell_type": "code",
   "execution_count": null,
   "id": "3b2cca5f",
   "metadata": {},
   "outputs": [],
   "source": []
  }
 ],
 "metadata": {
  "kernelspec": {
   "display_name": "Python 3 (ipykernel)",
   "language": "python",
   "name": "python3"
  },
  "language_info": {
   "codemirror_mode": {
    "name": "ipython",
    "version": 3
   },
   "file_extension": ".py",
   "mimetype": "text/x-python",
   "name": "python",
   "nbconvert_exporter": "python",
   "pygments_lexer": "ipython3",
   "version": "3.9.7"
  }
 },
 "nbformat": 4,
 "nbformat_minor": 5
}
