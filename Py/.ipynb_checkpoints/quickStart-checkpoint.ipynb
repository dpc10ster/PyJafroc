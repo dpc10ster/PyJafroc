{
 "cells": [
  {
   "cell_type": "markdown",
   "id": "4730fdc7",
   "metadata": {},
   "source": [
    "# A quick start guide to using pjafroc"
   ]
  },
  {
   "cell_type": "markdown",
   "id": "78bceb49",
   "metadata": {},
   "source": [
    "* `pjafroc` is the `python` implementation of `RJafroc`. However, not all `R` functions are implemented, only those essential to significance testing.\n",
    "* Significance testing is the statistical analysis of ROC (or FROC) data to determine if there is a difference between the modalities or readers and, furthermore, quantifying the difference via relevant statistics, leading to the oft-quoted p-value and confidence intervals for estimates.\n",
    "* It is assumed that the raw data consists of interpretations by observers of a set of cases containing diseased and non-diseased cases, in possibly multiple modalities.\n",
    "* The following URLs, written in `Rmarkdown`, may be useful as they provide background material that is independent of the programming language: \n",
    " * [The RJafroc Quick Start Book](https://dpc10ster.github.io/RJafrocQuickStart/)\n",
    " * [The RJafroc Roc Book](https://dpc10ster.github.io/RJafrocRocBook/)\n",
    " * [The RJafroc Froc Book](https://dpc10ster.github.io/RJafrocFrocBook/)"
   ]
  },
  {
   "cell_type": "markdown",
   "id": "28ff8cec",
   "metadata": {},
   "source": [
    "# Glossary of terms"
   ]
  },
  {
   "cell_type": "markdown",
   "id": "d7d98b40",
   "metadata": {},
   "source": [
    "* Treatment and modality are used interchangeably.\n",
    "* Reader, radiologist or algorithmic observer are also used interchangeably.\n",
    "* Rating: level of suspicion, recorded on an ordinal scale, with higher values associated with increasing confidence in presence of disease. \n",
    "* In the ROC paradigm each case interpretation results in **one** rating.\n",
    "* In the FROC paradigm each case interpretation results in **zero or more** marked suspicious regions, each of which yields a rating reflecting confidence in presence of disease at each marked region. \n",
    "* FROC data consists of mark-rating pairs, where the number of mark-rating pairs on each case is a-priori unpredictable.\n",
    "* K1 = number of non-diseased cases\n",
    "* K2 = number of diseased cases\n",
    "* K = K1 + K2 = total number of cases\n",
    "* I = number of modalities\n",
    "* J = number of readers\n",
    "* FOM, the figure of merit, in my opinion the most important concept in the analysis; for a given treatment and modality it is a **scalar** measure of performance, usually in the range 0 to 1, with higher values corresponding to better performance.\n",
    "* Significance testing: the analytic procedure used to determine if differences in FOM are statistically significant\n",
    "* RRRC, random-reader random-case, i.e., the analysis allows for random variability associated with readers and random variability associated with cases; some readers are better than others, some are worse; some cases are more difficult to interpret than others, etc."
   ]
  },
  {
   "cell_type": "markdown",
   "id": "861a8cf5",
   "metadata": {},
   "source": [
    "## Excel file format"
   ]
  },
  {
   "cell_type": "markdown",
   "id": "bf5510c7",
   "metadata": {},
   "source": [
    "* See [here](https://dpc10ster.github.io/RJafrocQuickStart/quick-start-data-format.html) for explanation of format of Excel file for ROC data and [here](https://dpc10ster.github.io/RJafrocQuickStart/quick-start-froc-data-format.html) for explanation of the format for FROC data. \n",
    "* NB: The final three columns in Excel file TRUTH worksheet, labeled ReaderID, ModalityID and Paradigm, can be omitted as they are ignored in the `pjafroc` implementation.\n",
    "* Sample Excel data input files can be found in the `extdata` directory.\n",
    "* The worksheet and column names are all case-sensitive."
   ]
  },
  {
   "cell_type": "code",
   "execution_count": 1,
   "id": "9645f44b",
   "metadata": {},
   "outputs": [],
   "source": [
    "import numpy as np"
   ]
  },
  {
   "cell_type": "markdown",
   "id": "c22f84cc",
   "metadata": {},
   "source": [
    "## Import necessary modules\n",
    "* DfReadDataFile.py: read an Excel data file and return a dataset. \n",
    "* StSignificanceTesting.py: apply significance testing to an input dataset.\n",
    "* UtilFigureOfMerit.py: compute figure of merit for each treatment-reader combination.\n",
    "* UtilORVarComponents.py: compute variability components of dataset, used in significance testing."
   ]
  },
  {
   "cell_type": "code",
   "execution_count": 2,
   "id": "5f0227aa",
   "metadata": {},
   "outputs": [],
   "source": [
    "from DfReadDataFile import DfReadDataFile, DfFroc2Roc, DfExtractDataset, DfRatings2Dataset\n",
    "from StSignificanceTesting import StSignificanceTesting, StSignificanceTestingCadVsRad\n",
    "from UtilFigureOfMerit import UtilFigureOfMerit\n",
    "from UtilFigureOfMerit import UtilLesionWeightsDistr\n",
    "from UtilORVarComponents import testJackKnife, UtilPseudoValues, UtilORVarComponents"
   ]
  },
  {
   "cell_type": "markdown",
   "id": "9b8f4e23",
   "metadata": {},
   "source": [
    "## Read the Excel file"
   ]
  },
  {
   "cell_type": "code",
   "execution_count": 3,
   "id": "9a26a927",
   "metadata": {},
   "outputs": [
    {
     "data": {
      "text/plain": [
       "7"
      ]
     },
     "execution_count": 3,
     "metadata": {},
     "output_type": "execute_result"
    }
   ],
   "source": [
    "ds = DfReadDataFile(\"extdata/JT.xlsx\")\n",
    "len(ds)"
   ]
  },
  {
   "cell_type": "markdown",
   "id": "e7c7dd62",
   "metadata": {},
   "source": [
    "* `DfReadDataFile` reads the data file \"extdata/JT.xlsx\" and returns a dataset object saved to `ds`.\n",
    "* `DfReadDataFile` automatically senses the type of data, `DataType`, as follows:\n",
    " * If every non-diseased case has exactly one NL mark **and** every diseased case has exactly one LL mark, then `DataType = \"ROC\"` else `DataType = \"FROC\"`\n",
    "* The `ds` object is a `list` containing 7 members: \n",
    "    * ds[0] = NL[0:I, 0:J, 0:K, 0:maxNL];\n",
    "    * ds[1] = LL[0:I, 0:J, 0:K2, 0:maxLL];\n",
    "    * ds[2] = `perCase`, array containing numbers of lesions per case\n",
    "    * ds[3] = `relWeights`, the relative weights of lesions on diseased cases\n",
    "    * ds[4] = `DataType`, the type of data, \"FROC\" or \"ROC\"\n",
    "    * ds[5] = `modalityID`, names of modalities, strings, defaults to \"0\", \"1\", etc.  \n",
    "    * ds[6] = `readerID`, names of readers, strings, defaults to \"0\", \"1\", etc."
   ]
  },
  {
   "cell_type": "code",
   "execution_count": 4,
   "id": "b450f887",
   "metadata": {},
   "outputs": [
    {
     "name": "stdout",
     "output_type": "stream",
     "text": [
      "number of modalities =  2 , number of readers =  9\n",
      "number of non-diseased cases =  45 , number of diseased cases =  47\n",
      "max number of NLs per case =  7 , max number of LLs per diseased case =  3\n"
     ]
    }
   ],
   "source": [
    "I = len(ds[0][:,0,0,0])\n",
    "J = len(ds[0][0,:,0,0])\n",
    "print(\"number of modalities = \", I, \", number of readers = \", J)\n",
    "\n",
    "K = len(ds[0][0,0,:,0])\n",
    "K2 = len(ds[1][0,0,:,0])\n",
    "K1 = K - K2\n",
    "print(\"number of non-diseased cases = \", K1, \", number of diseased cases = \", K2)\n",
    "\n",
    "maxNL = len(ds[0][0,0,0,:])\n",
    "maxLL = len(ds[1][0,0,0,:])\n",
    "print(\"max number of NLs per case = \", maxNL, \", max number of LLs per diseased case = \", maxLL)"
   ]
  },
  {
   "cell_type": "code",
   "execution_count": 5,
   "id": "f9612522",
   "metadata": {},
   "outputs": [
    {
     "data": {
      "text/plain": [
       "array([[  4.,   6., -inf, -inf, -inf, -inf, -inf],\n",
       "       [  4., -inf, -inf, -inf, -inf, -inf, -inf],\n",
       "       [  7., -inf, -inf, -inf, -inf, -inf, -inf],\n",
       "       [-inf, -inf, -inf, -inf, -inf, -inf, -inf],\n",
       "       [-inf, -inf, -inf, -inf, -inf, -inf, -inf],\n",
       "       [-inf, -inf, -inf, -inf, -inf, -inf, -inf],\n",
       "       [-inf, -inf, -inf, -inf, -inf, -inf, -inf],\n",
       "       [  5.,   4., -inf, -inf, -inf, -inf, -inf],\n",
       "       [-inf, -inf, -inf, -inf, -inf, -inf, -inf],\n",
       "       [-inf, -inf, -inf, -inf, -inf, -inf, -inf]])"
      ]
     },
     "execution_count": 5,
     "metadata": {},
     "output_type": "execute_result"
    }
   ],
   "source": [
    "ds[0][0,0,:10,:] # NL ratings for first treatment and first reader for the first 10 non-diseased cases\n",
    "#ds[0][1,0,:10,:] # NL ratings for second treatment and first reader ...\n",
    "# maximum number of NLs per case over entire dataset is 7"
   ]
  },
  {
   "cell_type": "markdown",
   "id": "96f053ff",
   "metadata": {},
   "source": [
    "* The first non-diseased case has two marked suspicious regions, rated 4 and 6.\n",
    "* -inf is used to denote unmarked regins, i.e., missing data\n",
    "* The second non-diseased case has one marked suspicious region, rated 4.\n",
    "* The fourth non-diseased case has no marks.\n",
    "* etc.\n",
    "* In this dataset a 1 to 10 rating scale was used.\n",
    "* Since the analysis only uses ordering information, the actual rating scale used is irrelevant. \n",
    "* The figure of merit is unaffected by any monotonic increasing transformation applied to the ratings."
   ]
  },
  {
   "cell_type": "markdown",
   "id": "2dabdf25",
   "metadata": {},
   "source": [
    "The dataset consists of K = 92 cases"
   ]
  },
  {
   "cell_type": "code",
   "execution_count": 6,
   "id": "aa659f04",
   "metadata": {},
   "outputs": [],
   "source": [
    "K = len(ds[0][0,0,:,:]) # 92 cases in all"
   ]
  },
  {
   "cell_type": "code",
   "execution_count": 7,
   "id": "d2afdfbd",
   "metadata": {},
   "outputs": [
    {
     "data": {
      "text/plain": [
       "array([[  5., -inf, -inf],\n",
       "       [ 10., -inf, -inf],\n",
       "       [  7., -inf, -inf],\n",
       "       [  6.,   9., -inf],\n",
       "       [-inf,   9., -inf],\n",
       "       [-inf, -inf, -inf],\n",
       "       [ 10., -inf, -inf],\n",
       "       [ 10., -inf, -inf],\n",
       "       [-inf, -inf, -inf],\n",
       "       [  2., -inf, -inf]])"
      ]
     },
     "execution_count": 7,
     "metadata": {},
     "output_type": "execute_result"
    }
   ],
   "source": [
    "ds[1][0,0,:10,:] # LL ratings for first treatment and first reader and first 10 diseased cases\n",
    "#ds[1][0,1,:,:] # LL ratings for first treatment and second reader\n",
    "# maximum number of LLs per case over entire dataset is 3"
   ]
  },
  {
   "cell_type": "code",
   "execution_count": 8,
   "id": "dbb01cd3",
   "metadata": {},
   "outputs": [
    {
     "data": {
      "text/plain": [
       "45"
      ]
     },
     "execution_count": 8,
     "metadata": {},
     "output_type": "execute_result"
    }
   ],
   "source": [
    "len(ds[0][0,0,:,:]) - len(ds[1][0,0,:,:]) # 45 non-diseased cases"
   ]
  },
  {
   "cell_type": "markdown",
   "id": "f012b153",
   "metadata": {},
   "source": [
    "**In FROC paradigm NLs can occur on non-diseased and diseased cases**"
   ]
  },
  {
   "cell_type": "code",
   "execution_count": 9,
   "id": "38f25830",
   "metadata": {},
   "outputs": [
    {
     "data": {
      "text/plain": [
       "array([[-inf, -inf, -inf, -inf, -inf, -inf, -inf],\n",
       "       [-inf, -inf, -inf, -inf, -inf, -inf, -inf],\n",
       "       [-inf, -inf, -inf, -inf, -inf, -inf, -inf],\n",
       "       [  7.,   9., -inf, -inf, -inf, -inf, -inf],\n",
       "       [-inf, -inf, -inf, -inf, -inf, -inf, -inf],\n",
       "       [  4., -inf, -inf, -inf, -inf, -inf, -inf],\n",
       "       [-inf, -inf, -inf, -inf, -inf, -inf, -inf],\n",
       "       [  4., -inf, -inf, -inf, -inf, -inf, -inf],\n",
       "       [-inf, -inf, -inf, -inf, -inf, -inf, -inf],\n",
       "       [  2., -inf, -inf, -inf, -inf, -inf, -inf]])"
      ]
     },
     "execution_count": 9,
     "metadata": {},
     "output_type": "execute_result"
    }
   ],
   "source": [
    "ds[0][0,0,45:55,:] # NL ratings for first treatment and first reader and first 10 diseased cases"
   ]
  },
  {
   "cell_type": "markdown",
   "id": "1d5f4a38",
   "metadata": {},
   "source": [
    "* The next statement displays the number of lesions per diseased case array, termed `perCase`\n",
    "* The first diseased case has one lesion, the fourth has 2 lesions, etc."
   ]
  },
  {
   "cell_type": "code",
   "execution_count": 10,
   "id": "92e1c846",
   "metadata": {},
   "outputs": [
    {
     "data": {
      "text/plain": [
       "array([1, 1, 1, 2, 2, 1, 1, 1, 1, 1, 1, 2, 1, 1, 1, 3, 1, 1, 1, 1, 1, 1,\n",
       "       1, 1, 1, 1, 1, 1, 2, 1, 1, 1, 2, 1, 1, 2, 1, 1, 3, 2, 1, 1, 2, 1,\n",
       "       1, 1, 1])"
      ]
     },
     "execution_count": 10,
     "metadata": {},
     "output_type": "execute_result"
    }
   ],
   "source": [
    "ds[2]"
   ]
  },
  {
   "cell_type": "markdown",
   "id": "21c6f088",
   "metadata": {},
   "source": [
    "## Apply the significance testing procedure "
   ]
  },
  {
   "cell_type": "code",
   "execution_count": 11,
   "id": "da64d971",
   "metadata": {},
   "outputs": [],
   "source": [
    "st = StSignificanceTesting(ds)"
   ]
  },
  {
   "cell_type": "code",
   "execution_count": 12,
   "id": "b1c6166e",
   "metadata": {},
   "outputs": [],
   "source": [
    "StSignificanceTesting?"
   ]
  },
  {
   "cell_type": "markdown",
   "id": "07bccd2f",
   "metadata": {},
   "source": [
    "* Preceding line, when executed, opens the \"pager\" window below, which is the documentation of the function, summarized here for convenience.\n",
    "* `StSignificanceTesting(ds, FOM='wAfroc', analysisOption='RRRC', alpha=0.05)`\n",
    "* `ds` is the dataset.\n",
    "* The default for `FOM` is \"wAfroc\".\n",
    "* The default for `analysisOption` is \"RRRC\", an abbreviation for random-reader random-case, \n",
    "* `alpha`, default 0.05, is the signficance level of the test.\n",
    "* The values of the members of `st` are described next."
   ]
  },
  {
   "cell_type": "code",
   "execution_count": 13,
   "id": "e0215536",
   "metadata": {},
   "outputs": [
    {
     "data": {
      "text/html": [
       "<div>\n",
       "<style scoped>\n",
       "    .dataframe tbody tr th:only-of-type {\n",
       "        vertical-align: middle;\n",
       "    }\n",
       "\n",
       "    .dataframe tbody tr th {\n",
       "        vertical-align: top;\n",
       "    }\n",
       "\n",
       "    .dataframe thead th {\n",
       "        text-align: right;\n",
       "    }\n",
       "</style>\n",
       "<table border=\"1\" class=\"dataframe\">\n",
       "  <thead>\n",
       "    <tr style=\"text-align: right;\">\n",
       "      <th></th>\n",
       "      <th>rdr0</th>\n",
       "      <th>rdr1</th>\n",
       "      <th>rdr2</th>\n",
       "      <th>rdr3</th>\n",
       "      <th>rdr4</th>\n",
       "      <th>rdr5</th>\n",
       "      <th>rdr6</th>\n",
       "      <th>rdr7</th>\n",
       "      <th>rdr8</th>\n",
       "    </tr>\n",
       "  </thead>\n",
       "  <tbody>\n",
       "    <tr>\n",
       "      <th>trt0</th>\n",
       "      <td>0.724468</td>\n",
       "      <td>0.880969</td>\n",
       "      <td>0.809574</td>\n",
       "      <td>0.613318</td>\n",
       "      <td>0.577305</td>\n",
       "      <td>0.849330</td>\n",
       "      <td>0.892790</td>\n",
       "      <td>0.802600</td>\n",
       "      <td>0.763987</td>\n",
       "    </tr>\n",
       "    <tr>\n",
       "      <th>trt1</th>\n",
       "      <td>0.802364</td>\n",
       "      <td>0.968558</td>\n",
       "      <td>0.845981</td>\n",
       "      <td>0.751418</td>\n",
       "      <td>0.720922</td>\n",
       "      <td>0.871868</td>\n",
       "      <td>0.936958</td>\n",
       "      <td>0.899488</td>\n",
       "      <td>0.819031</td>\n",
       "    </tr>\n",
       "  </tbody>\n",
       "</table>\n",
       "</div>"
      ],
      "text/plain": [
       "          rdr0      rdr1      rdr2      rdr3      rdr4      rdr5      rdr6  \\\n",
       "trt0  0.724468  0.880969  0.809574  0.613318  0.577305  0.849330  0.892790   \n",
       "trt1  0.802364  0.968558  0.845981  0.751418  0.720922  0.871868  0.936958   \n",
       "\n",
       "          rdr7      rdr8  \n",
       "trt0  0.802600  0.763987  \n",
       "trt1  0.899488  0.819031  "
      ]
     },
     "execution_count": 13,
     "metadata": {},
     "output_type": "execute_result"
    }
   ],
   "source": [
    "st[0][\"foms\"]"
   ]
  },
  {
   "cell_type": "code",
   "execution_count": 14,
   "id": "e6330486",
   "metadata": {},
   "outputs": [
    {
     "data": {
      "text/html": [
       "<div>\n",
       "<style scoped>\n",
       "    .dataframe tbody tr th:only-of-type {\n",
       "        vertical-align: middle;\n",
       "    }\n",
       "\n",
       "    .dataframe tbody tr th {\n",
       "        vertical-align: top;\n",
       "    }\n",
       "\n",
       "    .dataframe thead th {\n",
       "        text-align: right;\n",
       "    }\n",
       "</style>\n",
       "<table border=\"1\" class=\"dataframe\">\n",
       "  <thead>\n",
       "    <tr style=\"text-align: right;\">\n",
       "      <th></th>\n",
       "      <th>Estimate</th>\n",
       "    </tr>\n",
       "  </thead>\n",
       "  <tbody>\n",
       "    <tr>\n",
       "      <th>trt0</th>\n",
       "      <td>0.768260</td>\n",
       "    </tr>\n",
       "    <tr>\n",
       "      <th>trt1</th>\n",
       "      <td>0.846288</td>\n",
       "    </tr>\n",
       "  </tbody>\n",
       "</table>\n",
       "</div>"
      ],
      "text/plain": [
       "      Estimate\n",
       "trt0  0.768260\n",
       "trt1  0.846288"
      ]
     },
     "execution_count": 14,
     "metadata": {},
     "output_type": "execute_result"
    }
   ],
   "source": [
    "st[0][\"trtMeans\"]"
   ]
  },
  {
   "cell_type": "code",
   "execution_count": 15,
   "id": "114d9a13",
   "metadata": {},
   "outputs": [
    {
     "data": {
      "text/html": [
       "<div>\n",
       "<style scoped>\n",
       "    .dataframe tbody tr th:only-of-type {\n",
       "        vertical-align: middle;\n",
       "    }\n",
       "\n",
       "    .dataframe tbody tr th {\n",
       "        vertical-align: top;\n",
       "    }\n",
       "\n",
       "    .dataframe thead th {\n",
       "        text-align: right;\n",
       "    }\n",
       "</style>\n",
       "<table border=\"1\" class=\"dataframe\">\n",
       "  <thead>\n",
       "    <tr style=\"text-align: right;\">\n",
       "      <th></th>\n",
       "      <th>Estimate</th>\n",
       "    </tr>\n",
       "  </thead>\n",
       "  <tbody>\n",
       "    <tr>\n",
       "      <th>trt0 - trt1</th>\n",
       "      <td>-0.078027</td>\n",
       "    </tr>\n",
       "  </tbody>\n",
       "</table>\n",
       "</div>"
      ],
      "text/plain": [
       "             Estimate\n",
       "trt0 - trt1 -0.078027"
      ]
     },
     "execution_count": 15,
     "metadata": {},
     "output_type": "execute_result"
    }
   ],
   "source": [
    "st[0][\"trtMeanDiffs\"]"
   ]
  },
  {
   "cell_type": "code",
   "execution_count": 16,
   "id": "9928f7ce",
   "metadata": {},
   "outputs": [
    {
     "data": {
      "text/html": [
       "<div>\n",
       "<style scoped>\n",
       "    .dataframe tbody tr th:only-of-type {\n",
       "        vertical-align: middle;\n",
       "    }\n",
       "\n",
       "    .dataframe tbody tr th {\n",
       "        vertical-align: top;\n",
       "    }\n",
       "\n",
       "    .dataframe thead th {\n",
       "        text-align: right;\n",
       "    }\n",
       "</style>\n",
       "<table border=\"1\" class=\"dataframe\">\n",
       "  <thead>\n",
       "    <tr style=\"text-align: right;\">\n",
       "      <th></th>\n",
       "      <th>SS</th>\n",
       "      <th>DF</th>\n",
       "      <th>MS</th>\n",
       "    </tr>\n",
       "  </thead>\n",
       "  <tbody>\n",
       "    <tr>\n",
       "      <th>T</th>\n",
       "      <td>0.027397</td>\n",
       "      <td>1</td>\n",
       "      <td>0.027397</td>\n",
       "    </tr>\n",
       "    <tr>\n",
       "      <th>R</th>\n",
       "      <td>0.146699</td>\n",
       "      <td>8</td>\n",
       "      <td>0.018337</td>\n",
       "    </tr>\n",
       "    <tr>\n",
       "      <th>TR</th>\n",
       "      <td>0.007422</td>\n",
       "      <td>8</td>\n",
       "      <td>0.000928</td>\n",
       "    </tr>\n",
       "  </tbody>\n",
       "</table>\n",
       "</div>"
      ],
      "text/plain": [
       "          SS  DF        MS\n",
       "T   0.027397   1  0.027397\n",
       "R   0.146699   8  0.018337\n",
       "TR  0.007422   8  0.000928"
      ]
     },
     "execution_count": 16,
     "metadata": {},
     "output_type": "execute_result"
    }
   ],
   "source": [
    "st[1][\"TRAnova\"]"
   ]
  },
  {
   "cell_type": "code",
   "execution_count": 17,
   "id": "034cdb62",
   "metadata": {},
   "outputs": [
    {
     "data": {
      "text/html": [
       "<div>\n",
       "<style scoped>\n",
       "    .dataframe tbody tr th:only-of-type {\n",
       "        vertical-align: middle;\n",
       "    }\n",
       "\n",
       "    .dataframe tbody tr th {\n",
       "        vertical-align: top;\n",
       "    }\n",
       "\n",
       "    .dataframe thead th {\n",
       "        text-align: right;\n",
       "    }\n",
       "</style>\n",
       "<table border=\"1\" class=\"dataframe\">\n",
       "  <thead>\n",
       "    <tr style=\"text-align: right;\">\n",
       "      <th></th>\n",
       "      <th>Estimates</th>\n",
       "      <th>rhos</th>\n",
       "    </tr>\n",
       "  </thead>\n",
       "  <tbody>\n",
       "    <tr>\n",
       "      <th>VarR</th>\n",
       "      <td>0.008427</td>\n",
       "      <td></td>\n",
       "    </tr>\n",
       "    <tr>\n",
       "      <th>VarTR</th>\n",
       "      <td>0.000115</td>\n",
       "      <td></td>\n",
       "    </tr>\n",
       "    <tr>\n",
       "      <th>Var</th>\n",
       "      <td>0.001662</td>\n",
       "      <td></td>\n",
       "    </tr>\n",
       "    <tr>\n",
       "      <th>Cov1</th>\n",
       "      <td>0.000485</td>\n",
       "      <td>0.292114</td>\n",
       "    </tr>\n",
       "    <tr>\n",
       "      <th>Cov2</th>\n",
       "      <td>0.000571</td>\n",
       "      <td>0.343705</td>\n",
       "    </tr>\n",
       "    <tr>\n",
       "      <th>Cov3</th>\n",
       "      <td>0.000208</td>\n",
       "      <td>0.124859</td>\n",
       "    </tr>\n",
       "  </tbody>\n",
       "</table>\n",
       "</div>"
      ],
      "text/plain": [
       "       Estimates      rhos\n",
       "VarR    0.008427          \n",
       "VarTR   0.000115          \n",
       "Var     0.001662          \n",
       "Cov1    0.000485  0.292114\n",
       "Cov2    0.000571  0.343705\n",
       "Cov3    0.000208  0.124859"
      ]
     },
     "execution_count": 17,
     "metadata": {},
     "output_type": "execute_result"
    }
   ],
   "source": [
    "st[1][\"VarCom\"]"
   ]
  },
  {
   "cell_type": "code",
   "execution_count": 18,
   "id": "0149368d",
   "metadata": {},
   "outputs": [
    {
     "data": {
      "text/html": [
       "<div>\n",
       "<style scoped>\n",
       "    .dataframe tbody tr th:only-of-type {\n",
       "        vertical-align: middle;\n",
       "    }\n",
       "\n",
       "    .dataframe tbody tr th {\n",
       "        vertical-align: top;\n",
       "    }\n",
       "\n",
       "    .dataframe thead th {\n",
       "        text-align: right;\n",
       "    }\n",
       "</style>\n",
       "<table border=\"1\" class=\"dataframe\">\n",
       "  <thead>\n",
       "    <tr style=\"text-align: right;\">\n",
       "      <th></th>\n",
       "      <th>DF</th>\n",
       "      <th>msREachTrt</th>\n",
       "      <th>varEachTrt</th>\n",
       "      <th>cov2EachTrt</th>\n",
       "    </tr>\n",
       "  </thead>\n",
       "  <tbody>\n",
       "    <tr>\n",
       "      <th>trt0</th>\n",
       "      <td>8</td>\n",
       "      <td>0.012510</td>\n",
       "      <td>0.001920</td>\n",
       "      <td>0.000784</td>\n",
       "    </tr>\n",
       "    <tr>\n",
       "      <th>trt1</th>\n",
       "      <td>8</td>\n",
       "      <td>0.006756</td>\n",
       "      <td>0.001404</td>\n",
       "      <td>0.000358</td>\n",
       "    </tr>\n",
       "  </tbody>\n",
       "</table>\n",
       "</div>"
      ],
      "text/plain": [
       "      DF  msREachTrt  varEachTrt  cov2EachTrt\n",
       "trt0   8    0.012510    0.001920     0.000784\n",
       "trt1   8    0.006756    0.001404     0.000358"
      ]
     },
     "execution_count": 18,
     "metadata": {},
     "output_type": "execute_result"
    }
   ],
   "source": [
    "st[1][\"IndividualTrt\"]"
   ]
  },
  {
   "cell_type": "code",
   "execution_count": 19,
   "id": "61f1de68",
   "metadata": {},
   "outputs": [
    {
     "data": {
      "text/html": [
       "<div>\n",
       "<style scoped>\n",
       "    .dataframe tbody tr th:only-of-type {\n",
       "        vertical-align: middle;\n",
       "    }\n",
       "\n",
       "    .dataframe tbody tr th {\n",
       "        vertical-align: top;\n",
       "    }\n",
       "\n",
       "    .dataframe thead th {\n",
       "        text-align: right;\n",
       "    }\n",
       "</style>\n",
       "<table border=\"1\" class=\"dataframe\">\n",
       "  <thead>\n",
       "    <tr style=\"text-align: right;\">\n",
       "      <th></th>\n",
       "      <th>DF</th>\n",
       "      <th>msTEachRdr</th>\n",
       "      <th>varEachRdr</th>\n",
       "      <th>cov1EachRdr</th>\n",
       "    </tr>\n",
       "  </thead>\n",
       "  <tbody>\n",
       "    <tr>\n",
       "      <th>rdr0</th>\n",
       "      <td>1</td>\n",
       "      <td>0.003034</td>\n",
       "      <td>0.002276</td>\n",
       "      <td>0.000799</td>\n",
       "    </tr>\n",
       "    <tr>\n",
       "      <th>rdr1</th>\n",
       "      <td>1</td>\n",
       "      <td>0.003836</td>\n",
       "      <td>0.000691</td>\n",
       "      <td>0.000116</td>\n",
       "    </tr>\n",
       "    <tr>\n",
       "      <th>rdr2</th>\n",
       "      <td>1</td>\n",
       "      <td>0.000663</td>\n",
       "      <td>0.001584</td>\n",
       "      <td>0.000554</td>\n",
       "    </tr>\n",
       "    <tr>\n",
       "      <th>rdr3</th>\n",
       "      <td>1</td>\n",
       "      <td>0.009536</td>\n",
       "      <td>0.002243</td>\n",
       "      <td>0.000890</td>\n",
       "    </tr>\n",
       "    <tr>\n",
       "      <th>rdr4</th>\n",
       "      <td>1</td>\n",
       "      <td>0.010313</td>\n",
       "      <td>0.002637</td>\n",
       "      <td>0.001004</td>\n",
       "    </tr>\n",
       "    <tr>\n",
       "      <th>rdr5</th>\n",
       "      <td>1</td>\n",
       "      <td>0.000254</td>\n",
       "      <td>0.001416</td>\n",
       "      <td>0.000121</td>\n",
       "    </tr>\n",
       "    <tr>\n",
       "      <th>rdr6</th>\n",
       "      <td>1</td>\n",
       "      <td>0.000975</td>\n",
       "      <td>0.000745</td>\n",
       "      <td>0.000006</td>\n",
       "    </tr>\n",
       "    <tr>\n",
       "      <th>rdr7</th>\n",
       "      <td>1</td>\n",
       "      <td>0.004694</td>\n",
       "      <td>0.001321</td>\n",
       "      <td>0.000396</td>\n",
       "    </tr>\n",
       "    <tr>\n",
       "      <th>rdr8</th>\n",
       "      <td>1</td>\n",
       "      <td>0.001515</td>\n",
       "      <td>0.002046</td>\n",
       "      <td>0.000483</td>\n",
       "    </tr>\n",
       "  </tbody>\n",
       "</table>\n",
       "</div>"
      ],
      "text/plain": [
       "      DF  msTEachRdr  varEachRdr  cov1EachRdr\n",
       "rdr0   1    0.003034    0.002276     0.000799\n",
       "rdr1   1    0.003836    0.000691     0.000116\n",
       "rdr2   1    0.000663    0.001584     0.000554\n",
       "rdr3   1    0.009536    0.002243     0.000890\n",
       "rdr4   1    0.010313    0.002637     0.001004\n",
       "rdr5   1    0.000254    0.001416     0.000121\n",
       "rdr6   1    0.000975    0.000745     0.000006\n",
       "rdr7   1    0.004694    0.001321     0.000396\n",
       "rdr8   1    0.001515    0.002046     0.000483"
      ]
     },
     "execution_count": 19,
     "metadata": {},
     "output_type": "execute_result"
    }
   ],
   "source": [
    "st[1][\"IndividualRdr\"]"
   ]
  },
  {
   "cell_type": "code",
   "execution_count": 20,
   "id": "2e32b248",
   "metadata": {},
   "outputs": [
    {
     "data": {
      "text/html": [
       "<div>\n",
       "<style scoped>\n",
       "    .dataframe tbody tr th:only-of-type {\n",
       "        vertical-align: middle;\n",
       "    }\n",
       "\n",
       "    .dataframe tbody tr th {\n",
       "        vertical-align: top;\n",
       "    }\n",
       "\n",
       "    .dataframe thead th {\n",
       "        text-align: right;\n",
       "    }\n",
       "</style>\n",
       "<table border=\"1\" class=\"dataframe\">\n",
       "  <thead>\n",
       "    <tr style=\"text-align: right;\">\n",
       "      <th></th>\n",
       "      <th>DF</th>\n",
       "      <th>MS</th>\n",
       "      <th>FStat</th>\n",
       "      <th>PValue</th>\n",
       "    </tr>\n",
       "  </thead>\n",
       "  <tbody>\n",
       "    <tr>\n",
       "      <th>Treatment</th>\n",
       "      <td>1.0000</td>\n",
       "      <td>0.0274</td>\n",
       "      <td>6.5212</td>\n",
       "      <td>0.0116</td>\n",
       "    </tr>\n",
       "    <tr>\n",
       "      <th>Error</th>\n",
       "      <td>164.0528</td>\n",
       "      <td>0.0042</td>\n",
       "      <td>NaN</td>\n",
       "      <td>NaN</td>\n",
       "    </tr>\n",
       "  </tbody>\n",
       "</table>\n",
       "</div>"
      ],
      "text/plain": [
       "                 DF      MS   FStat  PValue\n",
       "Treatment    1.0000  0.0274  6.5212  0.0116\n",
       "Error      164.0528  0.0042     NaN     NaN"
      ]
     },
     "execution_count": 20,
     "metadata": {},
     "output_type": "execute_result"
    }
   ],
   "source": [
    "st[2][\"FTests\"][0]"
   ]
  },
  {
   "cell_type": "code",
   "execution_count": 21,
   "id": "76e2004a",
   "metadata": {},
   "outputs": [
    {
     "data": {
      "text/html": [
       "<div>\n",
       "<style scoped>\n",
       "    .dataframe tbody tr th:only-of-type {\n",
       "        vertical-align: middle;\n",
       "    }\n",
       "\n",
       "    .dataframe tbody tr th {\n",
       "        vertical-align: top;\n",
       "    }\n",
       "\n",
       "    .dataframe thead th {\n",
       "        text-align: right;\n",
       "    }\n",
       "</style>\n",
       "<table border=\"1\" class=\"dataframe\">\n",
       "  <thead>\n",
       "    <tr style=\"text-align: right;\">\n",
       "      <th></th>\n",
       "      <th>Estimate</th>\n",
       "      <th>StdErr</th>\n",
       "      <th>DF</th>\n",
       "      <th>t</th>\n",
       "      <th>PrGTt</th>\n",
       "      <th>CI_lo</th>\n",
       "      <th>CI_hi</th>\n",
       "    </tr>\n",
       "  </thead>\n",
       "  <tbody>\n",
       "    <tr>\n",
       "      <th>trt0 - trt1</th>\n",
       "      <td>-0.078</td>\n",
       "      <td>0.0306</td>\n",
       "      <td>164.0528</td>\n",
       "      <td>-2.5537</td>\n",
       "      <td>0.0116</td>\n",
       "      <td>-0.1384</td>\n",
       "      <td>-0.0177</td>\n",
       "    </tr>\n",
       "  </tbody>\n",
       "</table>\n",
       "</div>"
      ],
      "text/plain": [
       "             Estimate  StdErr        DF       t   PrGTt   CI_lo   CI_hi\n",
       "trt0 - trt1    -0.078  0.0306  164.0528 -2.5537  0.0116 -0.1384 -0.0177"
      ]
     },
     "execution_count": 21,
     "metadata": {},
     "output_type": "execute_result"
    }
   ],
   "source": [
    "st[2][\"ciDiffTrt\"][0]"
   ]
  },
  {
   "cell_type": "code",
   "execution_count": 22,
   "id": "c4d31ce0",
   "metadata": {},
   "outputs": [
    {
     "data": {
      "text/html": [
       "<div>\n",
       "<style scoped>\n",
       "    .dataframe tbody tr th:only-of-type {\n",
       "        vertical-align: middle;\n",
       "    }\n",
       "\n",
       "    .dataframe tbody tr th {\n",
       "        vertical-align: top;\n",
       "    }\n",
       "\n",
       "    .dataframe thead th {\n",
       "        text-align: right;\n",
       "    }\n",
       "</style>\n",
       "<table border=\"1\" class=\"dataframe\">\n",
       "  <thead>\n",
       "    <tr style=\"text-align: right;\">\n",
       "      <th></th>\n",
       "      <th>Estimate</th>\n",
       "      <th>StdErr</th>\n",
       "      <th>DF</th>\n",
       "      <th>CI_lo</th>\n",
       "      <th>CI_hi</th>\n",
       "      <th>Cov2</th>\n",
       "    </tr>\n",
       "  </thead>\n",
       "  <tbody>\n",
       "    <tr>\n",
       "      <th>trt0</th>\n",
       "      <td>0.768260</td>\n",
       "      <td>0.046626</td>\n",
       "      <td>19.570419</td>\n",
       "      <td>0.670863</td>\n",
       "      <td>0.865657</td>\n",
       "      <td>0.000784</td>\n",
       "    </tr>\n",
       "    <tr>\n",
       "      <th>trt1</th>\n",
       "      <td>0.846288</td>\n",
       "      <td>0.033303</td>\n",
       "      <td>17.465105</td>\n",
       "      <td>0.776167</td>\n",
       "      <td>0.916408</td>\n",
       "      <td>0.000358</td>\n",
       "    </tr>\n",
       "  </tbody>\n",
       "</table>\n",
       "</div>"
      ],
      "text/plain": [
       "      Estimate    StdErr         DF     CI_lo     CI_hi      Cov2\n",
       "trt0  0.768260  0.046626  19.570419  0.670863  0.865657  0.000784\n",
       "trt1  0.846288  0.033303  17.465105  0.776167  0.916408  0.000358"
      ]
     },
     "execution_count": 22,
     "metadata": {},
     "output_type": "execute_result"
    }
   ],
   "source": [
    "st[2][\"ciAvgRdrEachTrt\"]"
   ]
  },
  {
   "cell_type": "code",
   "execution_count": null,
   "id": "7ce05ee2",
   "metadata": {},
   "outputs": [],
   "source": []
  },
  {
   "cell_type": "code",
   "execution_count": null,
   "id": "b1d673da",
   "metadata": {},
   "outputs": [],
   "source": []
  }
 ],
 "metadata": {
  "kernelspec": {
   "display_name": "Python 3 (ipykernel)",
   "language": "python",
   "name": "python3"
  },
  "language_info": {
   "codemirror_mode": {
    "name": "ipython",
    "version": 3
   },
   "file_extension": ".py",
   "mimetype": "text/x-python",
   "name": "python",
   "nbconvert_exporter": "python",
   "pygments_lexer": "ipython3",
   "version": "3.9.7"
  }
 },
 "nbformat": 4,
 "nbformat_minor": 5
}
