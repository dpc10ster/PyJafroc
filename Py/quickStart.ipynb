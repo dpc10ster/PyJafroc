{
 "cells": [
  {
   "cell_type": "markdown",
   "id": "ba9a58b5",
   "metadata": {},
   "source": [
    "# A quick start guide to using pjafroc"
   ]
  },
  {
   "cell_type": "markdown",
   "id": "be715857",
   "metadata": {},
   "source": [
    "* `pjafroc` is a python implementation of `RJafroc`.\n",
    "* Not all `R` functions are implemented, only those essential to significance testing.\n",
    "* Significance testing is the statistical analysis of ROC or FROC data necessary to determining if there is a difference between the modalities.\n",
    "* It is assumed that the raw data consists of interpretations by observers of a set of cases, containing diseased and non-diseased cases, in two or more modalities.\n",
    "* "
   ]
  },
  {
   "cell_type": "markdown",
   "id": "b0a9e2c4",
   "metadata": {},
   "source": [
    "## Import necessary modules\n",
    "* DfReadDataFile.py: read an Excel data file and return a dataset.\n",
    "* StSignificanceTesting.py: apply significance testing to an input dataset.\n",
    "* UtilFigureOfMerit.py: compute figure of merit for each treatment-reader combination.\n",
    "* UtilORVarComponents.py: compute variability components of dataset, used in significance testing."
   ]
  },
  {
   "cell_type": "code",
   "execution_count": 3,
   "id": "7e132f5c",
   "metadata": {},
   "outputs": [],
   "source": [
    "from DfReadDataFile import DfReadDataFile, DfFroc2Roc, DfExtractDataset, DfRatings2Dataset\n",
    "from StSignificanceTesting import StSignificanceTesting, StSignificanceTestingCadVsRad\n",
    "from UtilFigureOfMerit import UtilFigureOfMerit\n",
    "from UtilFigureOfMerit import UtilLesionWeightsDistr\n",
    "from UtilORVarComponents import testJackKnife, UtilPseudoValues, UtilORVarComponents\n",
    "import numpy as np"
   ]
  },
  {
   "cell_type": "markdown",
   "id": "e750adb9",
   "metadata": {},
   "source": [
    "## Read the Excel file"
   ]
  },
  {
   "cell_type": "code",
   "execution_count": 5,
   "id": "fde7c155",
   "metadata": {},
   "outputs": [],
   "source": [
    "ds = DfReadDataFile(\"extdata/JT.xlsx\", DataType=\"FROC\")"
   ]
  },
  {
   "cell_type": "code",
   "execution_count": 16,
   "id": "73bb9a7e",
   "metadata": {},
   "outputs": [
    {
     "data": {
      "text/plain": [
       "array([[  4.,   6., -inf, -inf, -inf, -inf, -inf],\n",
       "       [  4., -inf, -inf, -inf, -inf, -inf, -inf],\n",
       "       [  7., -inf, -inf, -inf, -inf, -inf, -inf],\n",
       "       [-inf, -inf, -inf, -inf, -inf, -inf, -inf],\n",
       "       [-inf, -inf, -inf, -inf, -inf, -inf, -inf],\n",
       "       [-inf, -inf, -inf, -inf, -inf, -inf, -inf],\n",
       "       [-inf, -inf, -inf, -inf, -inf, -inf, -inf],\n",
       "       [  5.,   4., -inf, -inf, -inf, -inf, -inf],\n",
       "       [-inf, -inf, -inf, -inf, -inf, -inf, -inf],\n",
       "       [-inf, -inf, -inf, -inf, -inf, -inf, -inf]])"
      ]
     },
     "execution_count": 16,
     "metadata": {},
     "output_type": "execute_result"
    }
   ],
   "source": [
    "ds[0][0,0,:10,:] # NL ratings for first treatment and first reader and first 10 non-diseased cases\n",
    "#ds[0][1,0,:,:] # NL ratings for second treatment and first reader ...\n",
    "# maximum number of NLs per case over entire dataset is 7"
   ]
  },
  {
   "cell_type": "code",
   "execution_count": 18,
   "id": "71119726",
   "metadata": {},
   "outputs": [
    {
     "data": {
      "text/plain": [
       "92"
      ]
     },
     "execution_count": 18,
     "metadata": {},
     "output_type": "execute_result"
    }
   ],
   "source": [
    "len(ds[0][0,0,:,:]) # 92 cases in all"
   ]
  },
  {
   "cell_type": "code",
   "execution_count": 24,
   "id": "5eb15370",
   "metadata": {},
   "outputs": [
    {
     "data": {
      "text/plain": [
       "array([[  5., -inf, -inf],\n",
       "       [ 10., -inf, -inf],\n",
       "       [  7., -inf, -inf],\n",
       "       [  6.,   9., -inf],\n",
       "       [-inf,   9., -inf],\n",
       "       [-inf, -inf, -inf],\n",
       "       [ 10., -inf, -inf],\n",
       "       [ 10., -inf, -inf],\n",
       "       [-inf, -inf, -inf],\n",
       "       [  2., -inf, -inf]])"
      ]
     },
     "execution_count": 24,
     "metadata": {},
     "output_type": "execute_result"
    }
   ],
   "source": [
    "ds[1][0,0,:10,:] # LL ratings for first treatment and first reader and first 10 diseased cases\n",
    "#ds[1][0,1,:,:] # LL ratings for first treatment and second reader\n",
    "# maximum number of LLs per case over entire dataset is 3"
   ]
  },
  {
   "cell_type": "code",
   "execution_count": 23,
   "id": "867f3957",
   "metadata": {},
   "outputs": [
    {
     "data": {
      "text/plain": [
       "45"
      ]
     },
     "execution_count": 23,
     "metadata": {},
     "output_type": "execute_result"
    }
   ],
   "source": [
    "len(ds[0][0,0,:,:]) - len(ds[1][0,0,:,:]) # 45 non-diseased cases"
   ]
  },
  {
   "cell_type": "markdown",
   "id": "4a03887c",
   "metadata": {},
   "source": [
    "In FROC data NLs can occur on non-diseased and diseased cases"
   ]
  },
  {
   "cell_type": "code",
   "execution_count": 25,
   "id": "0243ea12",
   "metadata": {},
   "outputs": [
    {
     "data": {
      "text/plain": [
       "array([[-inf, -inf, -inf, -inf, -inf, -inf, -inf],\n",
       "       [-inf, -inf, -inf, -inf, -inf, -inf, -inf],\n",
       "       [-inf, -inf, -inf, -inf, -inf, -inf, -inf],\n",
       "       [  7.,   9., -inf, -inf, -inf, -inf, -inf],\n",
       "       [-inf, -inf, -inf, -inf, -inf, -inf, -inf],\n",
       "       [  4., -inf, -inf, -inf, -inf, -inf, -inf],\n",
       "       [-inf, -inf, -inf, -inf, -inf, -inf, -inf],\n",
       "       [  4., -inf, -inf, -inf, -inf, -inf, -inf],\n",
       "       [-inf, -inf, -inf, -inf, -inf, -inf, -inf],\n",
       "       [  2., -inf, -inf, -inf, -inf, -inf, -inf]])"
      ]
     },
     "execution_count": 25,
     "metadata": {},
     "output_type": "execute_result"
    }
   ],
   "source": [
    "ds[0][0,0,45:55,:] # NL ratings for first treatment and first reader and first 10 diseased cases"
   ]
  },
  {
   "cell_type": "markdown",
   "id": "34a7b26a",
   "metadata": {},
   "source": [
    "## Apply the significance testing procedure "
   ]
  },
  {
   "cell_type": "code",
   "execution_count": 6,
   "id": "f6f5941e",
   "metadata": {},
   "outputs": [],
   "source": [
    "st = StSignificanceTesting(ds)"
   ]
  },
  {
   "cell_type": "code",
   "execution_count": null,
   "id": "321bd392",
   "metadata": {},
   "outputs": [],
   "source": []
  }
 ],
 "metadata": {
  "kernelspec": {
   "display_name": "Python 3 (ipykernel)",
   "language": "python",
   "name": "python3"
  },
  "language_info": {
   "codemirror_mode": {
    "name": "ipython",
    "version": 3
   },
   "file_extension": ".py",
   "mimetype": "text/x-python",
   "name": "python",
   "nbconvert_exporter": "python",
   "pygments_lexer": "ipython3",
   "version": "3.9.7"
  }
 },
 "nbformat": 4,
 "nbformat_minor": 5
}
