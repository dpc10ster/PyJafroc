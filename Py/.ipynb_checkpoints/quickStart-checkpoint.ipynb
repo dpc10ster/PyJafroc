{
 "cells": [
  {
   "cell_type": "markdown",
   "id": "4730fdc7",
   "metadata": {},
   "source": [
    "# A quick start guide to using pjafroc"
   ]
  },
  {
   "cell_type": "markdown",
   "id": "78bceb49",
   "metadata": {},
   "source": [
    "* `pjafroc` is a `python` implementation of `RJafroc`.\n",
    "* Not all `R` functions are implemented, only those essential to significance testing.\n",
    "* Significance testing is the statistical analysis of ROC or FROC data necessary to determining if there is a difference between the modalities and quanitifying the difference. It is the source of the oft-quoted p-value.\n",
    "* It is assumed that the raw data consists of interpretations by observers of a set of cases, containing diseased and non-diseased cases, in two or more modalities.\n",
    "* The following URLs, containing code written in `Rmarkdown`, may be useful as they provide background material that is independent of the programming language: \n",
    " * [The RJafroc Quick Start Book](https://dpc10ster.github.io/RJafrocQuickStart/)\n",
    " * [The RJafroc Roc Book](https://dpc10ster.github.io/RJafrocRocBook/)\n",
    " * [The RJafroc Froc Book](https://dpc10ster.github.io/RJafrocFrocBook/)"
   ]
  },
  {
   "cell_type": "markdown",
   "id": "28ff8cec",
   "metadata": {},
   "source": [
    "# Glossary of terms"
   ]
  },
  {
   "cell_type": "markdown",
   "id": "d7d98b40",
   "metadata": {},
   "source": [
    "* Treatment, modality are used interchangeably.\n",
    "* Reader, radiologist or algorithmic observer are used interchangeably.\n",
    "* Rating: level of suspicion, recorded on an ordinal scale, with higher values associated with increasing confidence in presence of disease. \n",
    "* In ROC paradigm each case interpretation results in **one** rating.\n",
    "* In FROC paradigm each case interpretation results in **zero or more** marked suspicious regions, each of which yields a rating reflecting confidence in presence of disease at each marked region. FROC data consists of mark-rating pairs, where the number of mark-rating pairs on each case is a-priori unpredictable."
   ]
  },
  {
   "cell_type": "markdown",
   "id": "861a8cf5",
   "metadata": {},
   "source": [
    "## Excel file format"
   ]
  },
  {
   "cell_type": "markdown",
   "id": "bf5510c7",
   "metadata": {},
   "source": [
    "* See [here](https://dpc10ster.github.io/RJafrocQuickStart/quick-start-data-format.html) for explanation of format of Excel file for FROC data and [here](https://dpc10ster.github.io/RJafrocQuickStart/quick-start-froc-data-format.html) for explanation of format for FROC data. \n",
    "* NB: The final three columns in Excel file TRUTH worksheet, labeled ReaderID, ModalityID and Paradigm, can be omitted as they are ignored in `pjafroc`.\n",
    "* Sample files can be found in the `extdata` directory."
   ]
  },
  {
   "cell_type": "markdown",
   "id": "c22f84cc",
   "metadata": {},
   "source": [
    "## Import necessary modules\n",
    "* DfReadDataFile.py: read an Excel data file and return a dataset. \n",
    "* StSignificanceTesting.py: apply significance testing to an input dataset.\n",
    "* UtilFigureOfMerit.py: compute figure of merit for each treatment-reader combination.\n",
    "* UtilORVarComponents.py: compute variability components of dataset, used in significance testing."
   ]
  },
  {
   "cell_type": "code",
   "execution_count": null,
   "id": "48032368",
   "metadata": {},
   "outputs": [],
   "source": []
  },
  {
   "cell_type": "code",
   "execution_count": 30,
   "id": "5f0227aa",
   "metadata": {},
   "outputs": [],
   "source": [
    "from DfReadDataFile import DfReadDataFile, DfFroc2Roc, DfExtractDataset, DfRatings2Dataset\n",
    "from StSignificanceTesting import StSignificanceTesting, StSignificanceTestingCadVsRad\n",
    "from UtilFigureOfMerit import UtilFigureOfMerit\n",
    "from UtilFigureOfMerit import UtilLesionWeightsDistr\n",
    "from UtilORVarComponents import testJackKnife, UtilPseudoValues, UtilORVarComponents\n",
    "import numpy as np"
   ]
  },
  {
   "cell_type": "markdown",
   "id": "9b8f4e23",
   "metadata": {},
   "source": [
    "## Read the Excel file"
   ]
  },
  {
   "cell_type": "code",
   "execution_count": 31,
   "id": "9a26a927",
   "metadata": {},
   "outputs": [],
   "source": [
    "ds = DfReadDataFile(\"extdata/JT.xlsx\", DataType=\"FROC\")"
   ]
  },
  {
   "cell_type": "code",
   "execution_count": null,
   "id": "614a2f4f",
   "metadata": {},
   "outputs": [],
   "source": []
  },
  {
   "cell_type": "code",
   "execution_count": 32,
   "id": "f9612522",
   "metadata": {},
   "outputs": [
    {
     "data": {
      "text/plain": [
       "array([[  4.,   6., -inf, -inf, -inf, -inf, -inf],\n",
       "       [  4., -inf, -inf, -inf, -inf, -inf, -inf],\n",
       "       [  7., -inf, -inf, -inf, -inf, -inf, -inf],\n",
       "       [-inf, -inf, -inf, -inf, -inf, -inf, -inf],\n",
       "       [-inf, -inf, -inf, -inf, -inf, -inf, -inf],\n",
       "       [-inf, -inf, -inf, -inf, -inf, -inf, -inf],\n",
       "       [-inf, -inf, -inf, -inf, -inf, -inf, -inf],\n",
       "       [  5.,   4., -inf, -inf, -inf, -inf, -inf],\n",
       "       [-inf, -inf, -inf, -inf, -inf, -inf, -inf],\n",
       "       [-inf, -inf, -inf, -inf, -inf, -inf, -inf]])"
      ]
     },
     "execution_count": 32,
     "metadata": {},
     "output_type": "execute_result"
    }
   ],
   "source": [
    "ds[0][0,0,:10,:] # NL ratings for first treatment and first reader and first 10 non-diseased cases\n",
    "#ds[0][1,0,:,:] # NL ratings for second treatment and first reader ...\n",
    "# maximum number of NLs per case over entire dataset is 7"
   ]
  },
  {
   "cell_type": "code",
   "execution_count": 33,
   "id": "aa659f04",
   "metadata": {},
   "outputs": [
    {
     "data": {
      "text/plain": [
       "92"
      ]
     },
     "execution_count": 33,
     "metadata": {},
     "output_type": "execute_result"
    }
   ],
   "source": [
    "len(ds[0][0,0,:,:]) # 92 cases in all"
   ]
  },
  {
   "cell_type": "code",
   "execution_count": 34,
   "id": "d2afdfbd",
   "metadata": {},
   "outputs": [
    {
     "data": {
      "text/plain": [
       "array([[  5., -inf, -inf],\n",
       "       [ 10., -inf, -inf],\n",
       "       [  7., -inf, -inf],\n",
       "       [  6.,   9., -inf],\n",
       "       [-inf,   9., -inf],\n",
       "       [-inf, -inf, -inf],\n",
       "       [ 10., -inf, -inf],\n",
       "       [ 10., -inf, -inf],\n",
       "       [-inf, -inf, -inf],\n",
       "       [  2., -inf, -inf]])"
      ]
     },
     "execution_count": 34,
     "metadata": {},
     "output_type": "execute_result"
    }
   ],
   "source": [
    "ds[1][0,0,:10,:] # LL ratings for first treatment and first reader and first 10 diseased cases\n",
    "#ds[1][0,1,:,:] # LL ratings for first treatment and second reader\n",
    "# maximum number of LLs per case over entire dataset is 3"
   ]
  },
  {
   "cell_type": "code",
   "execution_count": 35,
   "id": "dbb01cd3",
   "metadata": {},
   "outputs": [
    {
     "data": {
      "text/plain": [
       "45"
      ]
     },
     "execution_count": 35,
     "metadata": {},
     "output_type": "execute_result"
    }
   ],
   "source": [
    "len(ds[0][0,0,:,:]) - len(ds[1][0,0,:,:]) # 45 non-diseased cases"
   ]
  },
  {
   "cell_type": "markdown",
   "id": "f012b153",
   "metadata": {},
   "source": [
    "**In FROC paradigm NLs can occur on non-diseased and diseased cases**"
   ]
  },
  {
   "cell_type": "code",
   "execution_count": 25,
   "id": "38f25830",
   "metadata": {},
   "outputs": [
    {
     "data": {
      "text/plain": [
       "array([[-inf, -inf, -inf, -inf, -inf, -inf, -inf],\n",
       "       [-inf, -inf, -inf, -inf, -inf, -inf, -inf],\n",
       "       [-inf, -inf, -inf, -inf, -inf, -inf, -inf],\n",
       "       [  7.,   9., -inf, -inf, -inf, -inf, -inf],\n",
       "       [-inf, -inf, -inf, -inf, -inf, -inf, -inf],\n",
       "       [  4., -inf, -inf, -inf, -inf, -inf, -inf],\n",
       "       [-inf, -inf, -inf, -inf, -inf, -inf, -inf],\n",
       "       [  4., -inf, -inf, -inf, -inf, -inf, -inf],\n",
       "       [-inf, -inf, -inf, -inf, -inf, -inf, -inf],\n",
       "       [  2., -inf, -inf, -inf, -inf, -inf, -inf]])"
      ]
     },
     "execution_count": 25,
     "metadata": {},
     "output_type": "execute_result"
    }
   ],
   "source": [
    "ds[0][0,0,45:55,:] # NL ratings for first treatment and first reader and first 10 diseased cases"
   ]
  },
  {
   "cell_type": "markdown",
   "id": "1d5f4a38",
   "metadata": {},
   "source": [
    "* The next statement displays the number of lesions per diseased case array, termed `perCase`\n",
    "* The first diseased case has one lesion, the fourth has 2 lesions, etc."
   ]
  },
  {
   "cell_type": "code",
   "execution_count": 28,
   "id": "92e1c846",
   "metadata": {},
   "outputs": [
    {
     "data": {
      "text/plain": [
       "array([1, 1, 1, 2, 2, 1, 1, 1, 1, 1, 1, 2, 1, 1, 1, 3, 1, 1, 1, 1, 1, 1,\n",
       "       1, 1, 1, 1, 1, 1, 2, 1, 1, 1, 2, 1, 1, 2, 1, 1, 3, 2, 1, 1, 2, 1,\n",
       "       1, 1, 1])"
      ]
     },
     "execution_count": 28,
     "metadata": {},
     "output_type": "execute_result"
    }
   ],
   "source": [
    "ds[2]"
   ]
  },
  {
   "cell_type": "markdown",
   "id": "21c6f088",
   "metadata": {},
   "source": [
    "## Apply the significance testing procedure "
   ]
  },
  {
   "cell_type": "code",
   "execution_count": 6,
   "id": "da64d971",
   "metadata": {},
   "outputs": [],
   "source": [
    "st = StSignificanceTesting(ds)"
   ]
  },
  {
   "cell_type": "code",
   "execution_count": null,
   "id": "e0215536",
   "metadata": {},
   "outputs": [],
   "source": []
  }
 ],
 "metadata": {
  "kernelspec": {
   "display_name": "Python 3 (ipykernel)",
   "language": "python",
   "name": "python3"
  },
  "language_info": {
   "codemirror_mode": {
    "name": "ipython",
    "version": 3
   },
   "file_extension": ".py",
   "mimetype": "text/x-python",
   "name": "python",
   "nbconvert_exporter": "python",
   "pygments_lexer": "ipython3",
   "version": "3.9.7"
  }
 },
 "nbformat": 4,
 "nbformat_minor": 5
}
